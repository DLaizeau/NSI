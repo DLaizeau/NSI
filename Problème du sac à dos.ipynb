{
 "cells": [
  {
   "cell_type": "markdown",
   "metadata": {},
   "source": [
    "Soit un sac à dos ne pouvant pas dépasser un poids maximal et un ensemble d'objets de poids et de valeur connus.\n",
    "Quels sont les objets à mettre dans le sac pour maximiser la valeur totale sans dépasser le poids maximal autorisé ?"
   ]
  },
  {
   "cell_type": "markdown",
   "metadata": {},
   "source": [
    "Formalisation :\n",
    "Soit O = ((p1, v1), (p2, v2), ..., (pn, vn)) les données de n objets où pi et vi sont respectivement le poids et la valeur de l'objet i \n",
    "et P le poids maximal autorisé pour le sac.\n",
    "\n",
    "Trouver X = (x1, x2, ..., xn), xi appartenant à {0, 1} tel que :\n",
    " La somme des xi.pi <= P\n",
    " La somme des xi.vi est max\n",
    " \n",
    "Sachant que :\n",
    "     somme des pi > P\n",
    "     pi <= P pour tout i dans {1, 2, ..., n}\n",
    "     pi > 0, vi > 0 pour tout i dans {1, 2, ..., n}"
   ]
  },
  {
   "cell_type": "markdown",
   "metadata": {},
   "source": [
    "Algorithme sacADos(P : Tableau d'entiers, PMax : entier)\n",
    "{P est trié par ordre croissant de V[i]}\n",
    "\n",
    "début\n",
    "    cumulP <-- 0\n",
    "    pour i = 1 ... n faire\n",
    "        si cumulP + P[i] <= PMax alors\n",
    "            X[i] <- 1\n",
    "            cumulP <- cumulP + P[i]\n",
    "        sinon\n",
    "            X[i] <- 0\n",
    "        fin si\n",
    "   fin pour\n",
    "   renvoyer X\n",
    "fin"
   ]
  },
  {
   "cell_type": "code",
   "execution_count": null,
   "metadata": {},
   "outputs": [],
   "source": []
  }
 ],
 "metadata": {
  "kernelspec": {
   "display_name": "Python 3",
   "language": "python",
   "name": "python3"
  },
  "language_info": {
   "codemirror_mode": {
    "name": "ipython",
    "version": 3
   },
   "file_extension": ".py",
   "mimetype": "text/x-python",
   "name": "python",
   "nbconvert_exporter": "python",
   "pygments_lexer": "ipython3",
   "version": "3.7.4"
  }
 },
 "nbformat": 4,
 "nbformat_minor": 2
}
